{
 "cells": [
  {
   "cell_type": "code",
   "execution_count": 6,
   "metadata": {
    "collapsed": false
   },
   "outputs": [
    {
     "name": "stdout",
     "output_type": "stream",
     "text": [
      "Ingrese el valor del radio:2\n",
      "Ingrese el numero de numeros aleatorios que desea generar:5\n",
      "Area estimada\n",
      "12.8\n",
      "Area real\n",
      "12.5663706144\n",
      "Diferencia\n",
      "0.233629385641\n"
     ]
    }
   ],
   "source": [
    "def wichmannhill(x0,y0,z0,cantidad):\n",
    "    arreglo=[]\n",
    "    if x0>=1 and x0<=30000 and y0>=1 and y0<=30000 and z0>=1 and z0<=30000:\n",
    "        for i in range(cantidad):\n",
    "            xi=(171.0*x0)%30269\n",
    "            yi=(172.0*y0)%30307\n",
    "            zi=(170.0*z0)%30323\n",
    "            ui=(xi/30269 + yi/30307 + zi/30323)%1\n",
    "            arreglo.append(ui)\n",
    "            x0=xi\n",
    "            y0=yi\n",
    "            z0=zi\n",
    "    return arreglo\n",
    "import numpy as np\n",
    "import matplotlib.pyplot as plt\n",
    "import math\n",
    "def grafica(radio,muestras):\n",
    "    delta=1.0*math.pow(2.0*radio,2)/(muestras)\n",
    "    sumaTotal=0.0\n",
    "    fig, ax = plt.subplots()\n",
    "    for i in range(0,muestras):\n",
    "        if radio>=math.pow(math.pow((2.0*radio * wichmannhill(15263,6980,4526,muestras)[i]) - radio,2)+math.pow((2.0*radio * wichmannhill(25412,1236,8956,muestras)[i]) - radio,2),.5):\n",
    "            sumaTotal+=1.0\n",
    "            ax.plot((2.0*radio * wichmannhill(15263,6980,4526,muestras)[i]) - radio, (2.0*radio * wichmannhill(25412,1236,8956,muestras)[i]) - radio, 'o', color='red')\n",
    "        else:\n",
    "            ax.plot((2.0*radio * wichmannhill(15263,6980,4526,muestras)[i]) - radio, (2.0*radio * wichmannhill(25412,1236,8956,muestras)[i]) - radio, 'o', color='blue')\n",
    "    an = np.linspace(0, 2*np.pi, 100)\n",
    "    plt.plot(radio*np.cos(an), radio*np.sin(an))\n",
    "    plt.axis('equal')\n",
    "    plt.axis([-radio, radio, -radio, radio])\n",
    "    plt.show()\n",
    "    total=sumaTotal*delta\n",
    "    print \"Area estimada\"\n",
    "    print total\n",
    "    print \"Area real\"\n",
    "    print math.pi*math.pow(radio,2)\n",
    "    print \"Diferencia\"\n",
    "    print abs(math.pi*math.pow(radio,2)-total)\n",
    "    \n",
    "radio = input('Ingrese el valor del radio:')\n",
    "num_alea= input('Ingrese el numero de numeros aleatorios que desea generar:')\n",
    "grafica(radio,num_alea)"
   ]
  },
  {
   "cell_type": "code",
   "execution_count": null,
   "metadata": {
    "collapsed": true
   },
   "outputs": [],
   "source": []
  }
 ],
 "metadata": {
  "kernelspec": {
   "display_name": "Python 2",
   "language": "python",
   "name": "python2"
  },
  "language_info": {
   "codemirror_mode": {
    "name": "ipython",
    "version": 2
   },
   "file_extension": ".py",
   "mimetype": "text/x-python",
   "name": "python",
   "nbconvert_exporter": "python",
   "pygments_lexer": "ipython2",
   "version": "2.7.11"
  }
 },
 "nbformat": 4,
 "nbformat_minor": 0
}
