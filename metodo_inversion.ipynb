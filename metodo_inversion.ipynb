{
 "cells": [
  {
   "cell_type": "code",
   "execution_count": 16,
   "metadata": {
    "collapsed": false
   },
   "outputs": [
    {
     "data": {
      "image/png": "[encoded data removed]",
      "text/plain": [
       "<matplotlib.figure.Figure at 0x7bcf5f8>"
      ]
     },
     "metadata": {},
     "output_type": "display_data"
    },
    {
     "data": {
      "image/png": "[encoded data removed]",
      "text/plain": [
       "<matplotlib.figure.Figure at 0x7fcbd68>"
      ]
     },
     "metadata": {},
     "output_type": "display_data"
    },
    {
     "name": "stdout",
     "output_type": "stream",
     "text": [
      "('Tasa de llegada', [3, 1, 3, 1, 3, 2, 2, 3])\n"
     ]
    },
    {
     "data": {
      "image/png": "[encoded data removed]",
      "text/plain": [
       "<matplotlib.figure.Figure at 0x84cce10>"
      ]
     },
     "metadata": {},
     "output_type": "display_data"
    }
   ],
   "source": [
    "\n",
    "get_ipython().magic(u'matplotlib inline')\n",
    "\n",
    "import numpy as np\n",
    "import scipy as sp\n",
    "import matplotlib.pyplot as plt\n",
    "import math\n",
    "from scipy.integrate import quad\n",
    "\n",
    "p=3\n",
    "o=8\n",
    "a=[]\n",
    "acum=[]\n",
    "inverpoi=[]\n",
    "plt.subplot(3,1,1)\n",
    "def poisson():\n",
    "    for i in range(o):\n",
    "        q=(math.exp(-p)*p**i)/math.factorial(i)\n",
    "        a.append(q)\n",
    "    return a\n",
    "plt.plot(poisson(),marker=\"o\",linestyle=\"--\")\n",
    "plt.show()\n",
    "plt.subplot(3,1,2)\n",
    "def acumupoisson():\n",
    "    n=0\n",
    "    for i in range(o):\n",
    "        n=a[i]+n\n",
    "        acum.append(n) #print(acum)\n",
    "    return acum\n",
    "\n",
    "plt.plot(acumupoisson())\n",
    "plt.show()\n",
    "plt.subplot(3,1,3)\n",
    "\n",
    "def aleatorios(al):\n",
    "    x=al\n",
    "    na=[]\n",
    "    for i in range(o):\n",
    "        mod=(420*x+23)%1929\n",
    "        ui=float(mod)/1929\n",
    "        x=mod\n",
    "        na.append(ui)\n",
    "    return na\n",
    "\n",
    "def inverpoisson():\n",
    "    v=aleatorios(7)\n",
    "    for i in range(o):\n",
    "        for j in range(o):\n",
    "            if v[i]<acum[j]:\n",
    "                inverpoi.append(j)\n",
    "                break\n",
    "    print(\"Tasa de llegada\",inverpoi)\n",
    "    return inverpoi\n",
    "inp=inverpoisson()\n",
    "plt.plot(inp)\n",
    "plt.show()"
   ]
  },
  {
   "cell_type": "code",
   "execution_count": null,
   "metadata": {
    "collapsed": true
   },
   "outputs": [],
   "source": []
  }
 ],
 "metadata": {
  "kernelspec": {
   "display_name": "Python 2",
   "language": "python",
   "name": "python2"
  },
  "language_info": {
   "codemirror_mode": {
    "name": "ipython",
    "version": 2
   },
   "file_extension": ".py",
   "mimetype": "text/x-python",
   "name": "python",
   "nbconvert_exporter": "python",
   "pygments_lexer": "ipython2",
   "version": "2.7.11"
  }
 },
 "nbformat": 4,
 "nbformat_minor": 0
}
