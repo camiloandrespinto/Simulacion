{
 "cells": [
  {
   "cell_type": "code",
   "execution_count": 3,
   "metadata": {
    "collapsed": true
   },
   "outputs": [],
   "source": [
    "%matplotlib inline \n",
    "import numpy as np\n",
    "import matplotlib.pyplot as plt\n",
    "import math\n",
    "\n",
    "def generar_num_pseudoaleatorios(n, x0, a, b, m):\n",
    "    \"\"\"Retorna una secuencia de n números pseudoaleatorios.\n",
    "    \n",
    "    A partir de cualquiera de los generadores midsquare, congruencial multiplicativo o mixto.\n",
    "    x0 es el valor para la semilla, a, b y m los parámetros para los congruenciales.\n",
    "    \"\"\"\n",
    "    secuencia = []\n",
    "    if n==0:\n",
    "        print 'generar_num_pseudoaleatorio_Error: Ingrese una cantidad n válida.'\n",
    "    \n",
    "    elif a==0 and b==0 and m!=0:\n",
    "        print 'generar_num_pseudoaleatorio_Error: Ingrese un multiplicador a válido.'\n",
    "        \n",
    "    elif a==0 and b!=0 and m!=0:\n",
    "        print 'generar_num_pseudoaleatorio_Error: Ingrese un multiplicador a válido.'\n",
    "\n",
    "    elif a!=0 and b==0 and m==0:\n",
    "        print 'generar_num_pseudoaleatorio_Error: Ingrese un módulo m válido.'\n",
    "\n",
    "    elif a!=0 and b!=0 and m==0:\n",
    "        print 'generar_num_pseudoaleatorio_Error: Ingrese un módulo m válido.'\n",
    "\n",
    "    elif a==0 and b!=0 and m==0:\n",
    "        print 'generar_num_pseudoaleatorio_Error: Ingrese un multiplicador a válido.'\n",
    "        print 'generar_num_pseudoaleatorio_Error: Ingrese un módulo m válido.'   \n",
    "\n",
    "    elif a==0 and b==0 and m==0: #Generador MidSquare.\n",
    "        longitud_x0 = len(str(x0))\n",
    "        \n",
    "        if longitud_x0 %2 == 0:\n",
    "            for i in range(0,n):\n",
    "                numCuadrado = str(x0**2)\n",
    "                if len(numCuadrado) < 2*longitud_x0:\n",
    "                    cantidadDeCerosPorAgregar = 2*longitud_x0 - len(numCuadrado)\n",
    "                    cadenaDeCeros = \"\" \n",
    "                    for ii in range(0,cantidadDeCerosPorAgregar):\n",
    "                        cadenaDeCeros = '0' + cadenaDeCeros\n",
    "                        numCuadrado = cadenaDeCeros + numCuadrado\n",
    "                #print \"Numero cuadrado\" + str(i) + \" = \" + numCuadrado\n",
    "                xi = numCuadrado[ int (0.5*longitud_x0) : int (0.5*longitud_x0 + longitud_x0) ]\n",
    "                #print \"X\" + str(i) + \" = \" + xi\n",
    "                ui = '0.'+ xi\n",
    "                secuencia.append(ui)\n",
    "                #print \"U\" + str(i) + \" = \" + ui\n",
    "                x0 = int(xi)\n",
    "            return secuencia\n",
    "\n",
    "        else: \n",
    "            print 'MidSquareError: Debe ingresar un valor de semilla con un numero de cifras PAR. \\n'\n",
    "    \n",
    "    else: #Generador Congruencial.\n",
    "       for i in range(0,n):\n",
    "            xi = (a*x0 + b) % m\n",
    "            ui = xi/float(m)\n",
    "            secuencia.append(ui)\n",
    "            x0 = xi\n",
    "       return secuencia\n",
    "\n",
    "\n",
    "        \n",
    "def test_de_kolmogorov_smirnov(secuencia=[]):\n",
    "    \"\"\"Imprime el resultado de aplicar el Test K-S sobre una secuencia de valores U[0,1].\"\"\"    \n",
    "    N = len(secuencia)\n",
    "    # Teoretical CDF for Uniform distribution F(x)\n",
    "    u = [1.0] * N\n",
    "    #print(u)\n",
    "    \n",
    "    # Plot empirical distribution f(x)\n",
    "    count, bins, ignored = plt.hist(secuencia, 25, normed=True)\n",
    "    plt.plot(bins, np.ones_like(bins), linewidth=2, color='r')\n",
    "    plt.show()\n",
    "    \n",
    "    x1 = np.arange(1/float(N), 1+1/float(N) , 1/float(N))\n",
    "    y1 = np.cumsum(np.sort(u)/np.max(np.cumsum(u)))\n",
    "    \n",
    "    x2 = np.sort(secuencia)\n",
    "    y2 = np.cumsum(np.sort(secuencia)/np.max(np.cumsum(secuencia)))\n",
    "    \n",
    "    De=np.absolute(y2-y1)\n",
    "    print(\"De = \",np.max(De))\n",
    "    \n",
    "    # Plotting\n",
    "    plt.plot(x1,y1,label='Uniform')\n",
    "    plt.step(x2,y2,label='Random')\n",
    "    x3 = [x1[De.argmax()],x1[De.argmax()]]\n",
    "    y3 = [np.min([y1[De.argmax()],y2[De.argmax()]]),np.max([y1[De.argmax()],y2[De.argmax()]])]\n",
    "    plt.step(x3,y3,label='D')\n",
    "    plt.legend()\n",
    "    plt.xlabel('X')\n",
    "    plt.ylabel('Cumulative Probability P(X)')\n",
    "    plt.ylim(0, 1.05)\n",
    "    plt.show()\n",
    "    \n",
    "    # scipy function for K-S test\n",
    "    from scipy import stats\n",
    "    D,pvalue = stats.kstest(y2, 'uniform')\n",
    "    print(\"D = \", D)\n",
    "    print(\"p-value = \", pvalue)\n",
    "    \n",
    "\n",
    "    \n",
    "def test_chi_cuadrado(k, secuencia=[]):\n",
    "    \"\"\"Retorna el valor aproximado Ji-cuadrado para una secuencia de valores de una distribución U(0,1).\n",
    "    \n",
    "    k es la cantidad de particiones para el intervalo [0,1].\n",
    "    \"\"\"\n",
    "    longitudIntervalo = 1/float(k)  \n",
    "    frecuenciasObservadas = []           #Creando la lista que guardará los contadores para c/u de los k intervalos.\n",
    "    \n",
    "    #Llenando con ceros los contadores de la lista.\n",
    "    for i in range(0,k):\n",
    "        frecuenciasObservadas.append(0)\n",
    "    \n",
    "    #print 'Longitud lista de FO = ' + str(len(frecuenciasObservadas))\n",
    "   \n",
    "    #Recorriendo los valores de la secuencia y aumentando los contadores para c/u de los k intervalos.    \n",
    "    for i in range(len(secuencia)):\n",
    "        cont = 1\n",
    "        for j in range(0,k):     \n",
    "            if secuencia[i]>(cont-1)*longitudIntervalo and secuencia[i]<=cont*longitudIntervalo:\n",
    "                frecuenciasObservadas[j]+=1\n",
    "            cont+=1 \n",
    "            \n",
    "    #     Imprimiendo las frecuencias observados en cada intervalo.   \n",
    "    #    for i in range(len(frecuenciasObservadas)):\n",
    "    #        print 'F[' + str(i) + ']' + ' = ' + str(frecuenciasObservadas[i])+ '\\n'\n",
    "        \n",
    "    frecuenciaEsperada = len(secuencia)/float(k)\n",
    "    estimadoJiCuadrado = 0.0\n",
    "        \n",
    "    for i in range(0,k):\n",
    "        estimadoJiCuadrado += (frecuenciasObservadas[i]-frecuenciaEsperada)**2 / frecuenciaEsperada\n",
    "    return estimadoJiCuadrado\n",
    "\n",
    "\n",
    "\n",
    "def test_rachas(secuencia=[]):\n",
    "    \"\"\"Retorna el valor estadístico de contraste Z para determinar la aleatoriedad de una secuencia.\"\"\"\n",
    "    rachas = []           #Creando la lista para las rachas de la secuencia.\n",
    "    rachas.append(' ')    #Añadiendo un espacio para el primer valor de la lista.\n",
    "    #Completando con ceros los demás valores de la lista.    \n",
    "    for i in range(1, len(secuencia)):\n",
    "        rachas.append(0)\n",
    "        \n",
    "    #Recorriendo la secuencia y llenando con 1 ó 0.   \n",
    "    for i in range(0, len(secuencia)-1):\n",
    "        if secuencia[i+1]>secuencia[i]:\n",
    "            rachas[i+1]=1\n",
    "    print '\\nRachas = ' + str(rachas)\n",
    "    \n",
    "    #Determinando el número de rachas de la secuencia.\n",
    "    numRachas = 0\n",
    "    print (rachas[0])\n",
    "    for i in range(1, len(rachas)-1):\n",
    "        if rachas[i+1] != rachas[i]:\n",
    "            numRachas += 1\n",
    "    numRachas += 1\n",
    "    print 'Numero de rachas de la secuencia = ' + str(numRachas) + '\\n'\n",
    "        \n",
    "    #Calculando el estadístico de contraste Z.  \n",
    "    n = len(secuencia)\n",
    "    z = (numRachas - ((2*n - 1)/float(3))) / (math.sqrt((16*n-29)/float(90)))\n",
    "    return 'Z = ' + str(z)"
   ]
  },
  {
   "cell_type": "markdown",
   "metadata": {},
   "source": [
    "\n",
    "uniformidad y aleatoriedad a los generadores"
   ]
  },
  {
   "cell_type": "code",
   "execution_count": 20,
   "metadata": {
    "collapsed": false
   },
   "outputs": [
    {
     "data": {
      "text/plain": [
       "[0.00021363282576203346,\n",
       " 0.0012817676179111004,\n",
       " 0.005767910275608301,\n",
       " 0.023071553092449903,\n",
       " 0.08651812607422471,\n",
       " 0.31146477861329913,\n",
       " 0.0901255370117724,\n",
       " 0.7375702145509422,\n",
       " 0.6142914541997015,\n",
       " 0.04761679423972964,\n",
       " 0.7570776776410639,\n",
       " 0.11391491768881679,\n",
       " 0.8697904073633254,\n",
       " 0.19350818498060107,\n",
       " 0.3329354436136782,\n",
       " 0.25603899685665965,\n",
       " 0.539814988616854,\n",
       " 0.9345389599911869,\n",
       " 0.7488988623954356,\n",
       " 0.08254253445193172,\n",
       " 0.7551654451526701,\n",
       " 0.7881098608486354,\n",
       " 0.9321701587177813,\n",
       " 0.5000322046689689,\n",
       " 0.6106617995537817,\n",
       " 0.16368095530197024,\n",
       " 0.48612953582778573,\n",
       " 0.4436486172489822,\n",
       " 0.2867258810438216,\n",
       " 0.7275177310220897,\n",
       " 0.7845734567381442,\n",
       " 0.15978116123005748,\n",
       " 0.8975258567370474,\n",
       " 0.9471246893517673,\n",
       " 0.6050154254771769,\n",
       " 0.10597034869715571,\n",
       " 0.19068326288834214,\n",
       " 0.19036643905565143,\n",
       " 0.4260492683388293,\n",
       " 0.8429976585321128,\n",
       " 0.2235425361432135,\n",
       " 0.7542762900702655,\n",
       " 0.5137749151326716,\n",
       " 0.2941628801636398,\n",
       " 0.14100304478779435,\n",
       " 0.19855234725400805,\n",
       " 0.9222866804338992,\n",
       " 0.7467489573173225,\n",
       " 0.17991361999884248,\n",
       " 0.35874110413715243,\n",
       " 0.5332240448333323,\n",
       " 0.9706743317656219,\n",
       " 0.0250295870937407,\n",
       " 0.4141085366718471,\n",
       " 0.2593849361874163,\n",
       " 0.829332787077874,\n",
       " 0.6415322967804968,\n",
       " 0.3851986969821155,\n",
       " 0.5374015108682215,\n",
       " 0.7576207923702896,\n",
       " 0.7091111564077437,\n",
       " 0.4360798071138561,\n",
       " 0.23447843501344323,\n",
       " 0.4821523460559547,\n",
       " 0.7826081612147391,\n",
       " 0.35627785278484225,\n",
       " 0.09419366577640176,\n",
       " 0.3586613195948303,\n",
       " 0.3042249255813658,\n",
       " 0.5973976771347225,\n",
       " 0.8463617325760424,\n",
       " 0.7015913012437522,\n",
       " 0.5922922142781317,\n",
       " 0.23943157447502017,\n",
       " 0.10595951834693551,\n",
       " 0.48087293980643153,\n",
       " 0.9316019737161696,\n",
       " 0.2617553840391338,\n",
       " 0.18611454078927636,\n",
       " 0.7608887883834541,\n",
       " 0.8903018631972373,\n",
       " 0.49381208373233676,\n",
       " 0.9501557336188853,\n",
       " 0.25662564812228084,\n",
       " 0.9883522861637175,\n",
       " 0.6204828838817775,\n",
       " 0.8277267278172076,\n",
       " 0.3820144119672477,\n",
       " 0.8425459214486182,\n",
       " 0.6171458209864795,\n",
       " 0.11996163288131356,\n",
       " 0.1654574084095657,\n",
       " 0.9130897545255721,\n",
       " 0.9894218514673412,\n",
       " 0.7187233180738986,\n",
       " 0.40754324523732066,\n",
       " 0.976749608758837,\n",
       " 0.19260844541713595,\n",
       " 0.36490419367328286,\n",
       " 0.4559491532854736]"
      ]
     },
     "execution_count": 20,
     "metadata": {},
     "output_type": "execute_result"
    }
   ],
   "source": [
    "s = generar_num_pseudoaleatorios(100,7,65539,0,math.pow(2,31))\n",
    "s"
   ]
  },
  {
   "cell_type": "markdown",
   "metadata": {},
   "source": [
    "pruebas de UNIFORMIDAD"
   ]
  },
  {
   "cell_type": "code",
   "execution_count": 21,
   "metadata": {
    "collapsed": false
   },
   "outputs": [
    {
     "data": {
      "image/png": "[encoded data removed]",
      "text/plain": [
       "<matplotlib.figure.Figure at 0x7e36128>"
      ]
     },
     "metadata": {},
     "output_type": "display_data"
    },
    {
     "name": "stdout",
     "output_type": "stream",
     "text": [
      "('De = ', 0.26724660473662543)\n"
     ]
    },
    {
     "data": {
      "image/png": "[encoded data removed]",
      "text/plain": [
       "<matplotlib.figure.Figure at 0x7e67fd0>"
      ]
     },
     "metadata": {},
     "output_type": "display_data"
    },
    {
     "name": "stdout",
     "output_type": "stream",
     "text": [
      "('D = ', 0.2672466047366252)\n",
      "('p-value = ', 8.5199915034195328e-07)\n"
     ]
    }
   ],
   "source": [
    "test_de_kolmogorov_smirnov(s)"
   ]
  },
  {
   "cell_type": "markdown",
   "metadata": {},
   "source": [
    "test chi cuadrado para 10 grados de libertad (k=13) y alpha=0.05 ."
   ]
  },
  {
   "cell_type": "code",
   "execution_count": 23,
   "metadata": {
    "collapsed": false
   },
   "outputs": [
    {
     "data": {
      "text/plain": [
       "8.680000000000001"
      ]
     },
     "execution_count": 23,
     "metadata": {},
     "output_type": "execute_result"
    }
   ],
   "source": [
    "test_chi_cuadrado(13,s)"
   ]
  },
  {
   "cell_type": "markdown",
   "metadata": {},
   "source": [
    "Como el estimado = 8.68 es menor que el valor proporcionado por la tabla T = 18.307, SE ACEPTA LA UNIFORMIDAD DE LA SECUENCIA DE VALORES."
   ]
  },
  {
   "cell_type": "markdown",
   "metadata": {},
   "source": [
    "pruebas de ALEATORIEDAD"
   ]
  },
  {
   "cell_type": "code",
   "execution_count": 24,
   "metadata": {
    "collapsed": false
   },
   "outputs": [
    {
     "name": "stdout",
     "output_type": "stream",
     "text": [
      "\n",
      "Rachas = [' ', 1, 1, 1, 1, 1, 0, 1, 0, 0, 1, 0, 1, 0, 1, 0, 1, 1, 0, 0, 1, 1, 1, 0, 1, 0, 1, 0, 0, 1, 1, 0, 1, 1, 0, 0, 1, 0, 1, 1, 0, 1, 0, 0, 0, 1, 1, 0, 0, 1, 1, 1, 0, 1, 0, 1, 0, 0, 1, 1, 0, 0, 0, 1, 1, 0, 0, 1, 0, 1, 1, 0, 0, 0, 0, 1, 1, 0, 0, 1, 1, 0, 1, 0, 1, 0, 1, 0, 1, 0, 0, 1, 1, 1, 0, 0, 1, 0, 1, 1]\n",
      " \n",
      "Numero de rachas de la secuencia = 61\n",
      "\n"
     ]
    },
    {
     "data": {
      "text/plain": [
       "'Z = -1.27653254084'"
      ]
     },
     "execution_count": 24,
     "metadata": {},
     "output_type": "execute_result"
    }
   ],
   "source": [
    "test_rachas(s)"
   ]
  },
  {
   "cell_type": "markdown",
   "metadata": {
    "collapsed": true
   },
   "source": [
    "NUMERICAL RECIEPES. xi+1 = 1664525xi + 1013904223 mod 2^32"
   ]
  },
  {
   "cell_type": "code",
   "execution_count": 4,
   "metadata": {
    "collapsed": true
   },
   "outputs": [],
   "source": [
    "s = generar_num_pseudoaleatorios(100,7,1664525,1013904223,math.pow(2,32))"
   ]
  },
  {
   "cell_type": "code",
   "execution_count": 5,
   "metadata": {
    "collapsed": false
   },
   "outputs": [
    {
     "data": {
      "text/plain": [
       "[0.23878083983436227,\n",
       " 0.9134932646993548,\n",
       " 0.6124916663393378,\n",
       " 0.9269814591389149,\n",
       " 0.049341175239533186,\n",
       " 0.8557835568208247,\n",
       " 0.3609851561486721,\n",
       " 0.05310634127818048,\n",
       " 0.06878403620794415,\n",
       " 0.9839370010886341,\n",
       " 0.9728050315752625,\n",
       " 0.5312507867347449,\n",
       " 0.45185762410983443,\n",
       " 0.5478393950033933,\n",
       " 0.6050359960645437,\n",
       " 0.7774173074867576,\n",
       " 0.7798123680986464,\n",
       " 0.4180773722473532,\n",
       " 0.47410799842327833,\n",
       " 0.8521434802096337,\n",
       " 0.36246391339227557,\n",
       " 0.48150725034065545,\n",
       " 0.09194125235080719,\n",
       " 0.7491372001823038,\n",
       " 0.8342014220543206,\n",
       " 0.35811294079758227,\n",
       " 0.17884906847029924,\n",
       " 0.9817634976934642,\n",
       " 0.12206618627533317,\n",
       " 0.4547779217828065,\n",
       " 0.45632349886000156,\n",
       " 0.10800791694782674,\n",
       " 0.11402555415406823,\n",
       " 0.6215962732676417,\n",
       " 0.7728287940844893,\n",
       " 0.08454145747236907,\n",
       " 0.6055671679787338,\n",
       " 0.9263477746862918,\n",
       " 0.2657276727259159,\n",
       " 0.5905120780225843,\n",
       " 0.35273851500824094,\n",
       " 0.3127620650921017,\n",
       " 0.5124654034152627,\n",
       " 0.7116877629887313,\n",
       " 0.30975679075345397,\n",
       " 0.15819686581380665,\n",
       " 0.8741366993635893,\n",
       " 0.6255761513020843,\n",
       " 0.37931407475844026,\n",
       " 0.9963552656117827,\n",
       " 0.48456042539328337,\n",
       " 0.17814572784118354,\n",
       " 0.2537028188817203,\n",
       " 0.9206670683342963,\n",
       " 0.5879871174693108,\n",
       " 0.4927735773380846,\n",
       " 0.17488664807751775,\n",
       " 0.4339592030737549,\n",
       " 0.1785643147304654,\n",
       " 0.0020447007846087217,\n",
       " 0.6916414736770093,\n",
       " 0.7600401968229562,\n",
       " 0.1446847040206194,\n",
       " 0.5430278943385929,\n",
       " 0.741891919169575,\n",
       " 0.8828237096313387,\n",
       " 0.3713420769199729,\n",
       " 0.4066531907301396,\n",
       " 0.6383680584840477,\n",
       " 0.8286161322612315,\n",
       " 0.5036200992763042,\n",
       " 0.48181586316786706,\n",
       " 0.7857074667699635,\n",
       " 0.9571932463441044,\n",
       " 0.3244388932362199,\n",
       " 0.884831991745159,\n",
       " 0.2071275836788118,\n",
       " 0.27729094703681767,\n",
       " 0.9496844317764044,\n",
       " 0.7148705923464149,\n",
       " 0.2087933891452849,\n",
       " 0.0521350281778723,\n",
       " 0.29384574573487043,\n",
       " 0.8259873080532998,\n",
       " 0.7600053916685283,\n",
       " 0.2106350299436599,\n",
       " 0.5092849433422089,\n",
       " 0.7563846630509943,\n",
       " 0.4173329290933907,\n",
       " 0.3298671490047127,\n",
       " 0.3522650422528386,\n",
       " 0.2055238790344447,\n",
       " 0.8708177818916738,\n",
       " 0.20447121118195355,\n",
       " 0.6788606140762568,\n",
       " 0.6997132541146129,\n",
       " 0.4403730989433825,\n",
       " 0.2685867066029459,\n",
       " 0.5238762414082885,\n",
       " 0.33679810422472656]"
      ]
     },
     "execution_count": 5,
     "metadata": {},
     "output_type": "execute_result"
    }
   ],
   "source": [
    "s"
   ]
  },
  {
   "cell_type": "markdown",
   "metadata": {},
   "source": [
    "pruebas de UNIFORMIDAD"
   ]
  },
  {
   "cell_type": "code",
   "execution_count": 6,
   "metadata": {
    "collapsed": false
   },
   "outputs": [
    {
     "data": {
      "image/png": "[encoded data removed]",
      "text/plain": [
       "<matplotlib.figure.Figure at 0x4234f28>"
      ]
     },
     "metadata": {},
     "output_type": "display_data"
    },
    {
     "name": "stdout",
     "output_type": "stream",
     "text": [
      "('De = ', 0.23478823205518001)\n"
     ]
    },
    {
     "data": {
      "image/png": "[encoded data removed]",
      "text/plain": [
       "<matplotlib.figure.Figure at 0x76129b0>"
      ]
     },
     "metadata": {},
     "output_type": "display_data"
    },
    {
     "name": "stdout",
     "output_type": "stream",
     "text": [
      "('D = ', 0.23478823205517979)\n",
      "('p-value = ', 2.4793840659009803e-05)\n"
     ]
    }
   ],
   "source": [
    "\n",
    "test_de_kolmogorov_smirnov(s)"
   ]
  },
  {
   "cell_type": "markdown",
   "metadata": {},
   "source": [
    "Realizando el test chi cuadrado para 10 grados de libertad (k=11) y alpha=0.05 ..."
   ]
  },
  {
   "cell_type": "code",
   "execution_count": 7,
   "metadata": {
    "collapsed": false
   },
   "outputs": [
    {
     "data": {
      "text/plain": [
       "6.6"
      ]
     },
     "execution_count": 7,
     "metadata": {},
     "output_type": "execute_result"
    }
   ],
   "source": [
    "test_chi_cuadrado(13,s)"
   ]
  },
  {
   "cell_type": "markdown",
   "metadata": {},
   "source": [
    "Como el estimado = 6.6 es menor que el valor proporcionado por la tabla T = 18.307, SE ACEPTA LA UNIFORMIDAD DE LA SECUENCIA DE VALORES.\n",
    "\n",
    "Realizando pruebas de ALEATORIEDAD..."
   ]
  },
  {
   "cell_type": "code",
   "execution_count": 8,
   "metadata": {
    "collapsed": false
   },
   "outputs": [
    {
     "name": "stdout",
     "output_type": "stream",
     "text": [
      "\n",
      "Rachas = [' ', 1, 0, 1, 0, 1, 0, 0, 1, 1, 0, 0, 0, 1, 1, 1, 1, 0, 1, 1, 0, 1, 0, 1, 1, 0, 0, 1, 0, 1, 1, 0, 1, 1, 1, 0, 1, 1, 0, 1, 0, 0, 1, 1, 0, 0, 1, 0, 0, 1, 0, 0, 1, 1, 0, 0, 0, 1, 0, 0, 1, 1, 0, 1, 1, 1, 0, 1, 1, 1, 0, 0, 1, 1, 0, 1, 0, 1, 1, 0, 0, 0, 1, 1, 0, 0, 1, 1, 0, 0, 1, 0, 1, 0, 1, 1, 0, 0, 1, 0]\n",
      " \n",
      "Numero de rachas de la secuencia = 60\n",
      "\n"
     ]
    },
    {
     "data": {
      "text/plain": [
       "'Z = -1.51588239224'"
      ]
     },
     "execution_count": 8,
     "metadata": {},
     "output_type": "execute_result"
    }
   ],
   "source": [
    "test_rachas(s)"
   ]
  },
  {
   "cell_type": "markdown",
   "metadata": {},
   "source": [
    "Borland C/C++. xi+1 = 22695477xi + 1 mod 2^32"
   ]
  },
  {
   "cell_type": "code",
   "execution_count": 9,
   "metadata": {
    "collapsed": false
   },
   "outputs": [
    {
     "data": {
      "text/plain": [
       "[0.0369894178584218,\n",
       " 0.4822492015082389,\n",
       " 0.6610986012965441,\n",
       " 0.10045788623392582,\n",
       " 0.6464906800538301,\n",
       " 0.3598760608583689,\n",
       " 0.8620617110282183,\n",
       " 0.7352215722203255,\n",
       " 0.2822302356362343,\n",
       " 0.8215867355465889,\n",
       " 0.860102690756321,\n",
       " 0.8356981948018074,\n",
       " 0.15906593948602676,\n",
       " 0.37108851224184036,\n",
       " 0.7945489063858986,\n",
       " 0.43025631457567215,\n",
       " 0.2915569320321083,\n",
       " 0.6451252773404121,\n",
       " 0.8939979448914528,\n",
       " 0.7963312342762947,\n",
       " 0.2118992581963539,\n",
       " 0.7407124117016792,\n",
       " 0.5033899918198586,\n",
       " 0.9813777878880501,\n",
       " 0.01332411915063858,\n",
       " 0.23972857766784728,\n",
       " 0.4207033412531018,\n",
       " 0.005232922732830048,\n",
       " 0.6775257217232138,\n",
       " 0.4342775996774435,\n",
       " 0.27509462647140026,\n",
       " 0.767905255779624,\n",
       " 0.07072557508945465,\n",
       " 0.6627544912043959,\n",
       " 0.31177606992423534,\n",
       " 0.6241158749908209,\n",
       " 0.48618905059993267,\n",
       " 0.41554260812699795,\n",
       " 0.7052662950009108,\n",
       " 0.9770683851093054,\n",
       " 0.061675384640693665,\n",
       " 0.2735790165606886,\n",
       " 0.2780357273295522,\n",
       " 0.45478612277656794,\n",
       " 0.989394772797823,\n",
       " 0.3099532164633274,\n",
       " 0.0953194685280323,\n",
       " 0.8056301809847355,\n",
       " 0.2430449016392231,\n",
       " 0.9751202501356602,\n",
       " 0.20918812230229378,\n",
       " 0.21838489547371864,\n",
       " 0.3723711855709553,\n",
       " 0.6775883473455906,\n",
       " 0.752649862319231,\n",
       " 0.6393192745745182,\n",
       " 0.891762662678957,\n",
       " 0.0002890266478061676,\n",
       " 0.5976376722101122,\n",
       " 0.043978141620755196,\n",
       " 0.9016565924976021,\n",
       " 0.45692770183086395,\n",
       " 0.14756523072719574,\n",
       " 0.29996876418590546,\n",
       " 0.18829964101314545,\n",
       " 0.17172209918498993,\n",
       " 0.9524446576833725,\n",
       " 0.8222258538007736,\n",
       " 0.9537408202886581,\n",
       " 0.8508223742246628,\n",
       " 0.6253012269735336,\n",
       " 0.6148496121168137,\n",
       " 0.2302560657262802,\n",
       " 0.2438012808561325,\n",
       " 0.36224089562892914,\n",
       " 0.9152057617902756,\n",
       " 0.31697867810726166,\n",
       " 0.2984737604856491,\n",
       " 0.366205558180809,\n",
       " 0.8229647129774094,\n",
       " 0.7151903957128525,\n",
       " 0.17652194201946259,\n",
       " 0.6750980466604233,\n",
       " 0.19072656333446503,\n",
       " 0.3314463943243027,\n",
       " 0.019120141863822937,\n",
       " 0.7399071308318526,\n",
       " 0.26993029937148094,\n",
       " 0.9009885601699352,\n",
       " 0.14459988102316856,\n",
       " 0.2739640586078167,\n",
       " 0.990960355848074,\n",
       " 0.9640617780387402,\n",
       " 0.9100573323667049,\n",
       " 0.2554099075496197,\n",
       " 0.6823645196855068,\n",
       " 0.2621384672820568,\n",
       " 0.5550151728093624,\n",
       " 0.08914590999484062,\n",
       " 0.9499319756869227]"
      ]
     },
     "execution_count": 9,
     "metadata": {},
     "output_type": "execute_result"
    }
   ],
   "source": [
    "s = generar_num_pseudoaleatorios(100,7,22695477,1,math.pow(2,32))\n",
    "\n",
    "s"
   ]
  },
  {
   "cell_type": "markdown",
   "metadata": {},
   "source": [
    "Realizando pruebas de UNIFORMIDAD."
   ]
  },
  {
   "cell_type": "code",
   "execution_count": 10,
   "metadata": {
    "collapsed": false
   },
   "outputs": [
    {
     "data": {
      "image/png": "[encoded data removed]",
      "text/plain": [
       "<matplotlib.figure.Figure at 0x8204710>"
      ]
     },
     "metadata": {},
     "output_type": "display_data"
    },
    {
     "name": "stdout",
     "output_type": "stream",
     "text": [
      "('De = ', 0.26953148545724587)\n"
     ]
    },
    {
     "data": {
      "image/png": "[encoded data removed]",
      "text/plain": [
       "<matplotlib.figure.Figure at 0x82d94e0>"
      ]
     },
     "metadata": {},
     "output_type": "display_data"
    },
    {
     "name": "stdout",
     "output_type": "stream",
     "text": [
      "('D = ', 0.26953148545724565)\n",
      "('p-value = ', 6.6044909874385382e-07)\n"
     ]
    }
   ],
   "source": [
    "test_de_kolmogorov_smirnov(s)"
   ]
  },
  {
   "cell_type": "markdown",
   "metadata": {},
   "source": [
    "Realizando el test chi cuadrado para 10 grados de libertad (k=13) y alpha=0.05 ..."
   ]
  },
  {
   "cell_type": "code",
   "execution_count": 12,
   "metadata": {
    "collapsed": false
   },
   "outputs": [
    {
     "data": {
      "text/plain": [
       "14.660000000000002"
      ]
     },
     "execution_count": 12,
     "metadata": {},
     "output_type": "execute_result"
    }
   ],
   "source": [
    "test_chi_cuadrado(13,s)"
   ]
  },
  {
   "cell_type": "markdown",
   "metadata": {},
   "source": [
    "Como el estimado = 14.66 es menor que el valor proporcionado por la tabla T = 18.307, SE ACEPTA LA UNIFORMIDAD DE LA SECUENCIA DE VALORES.\n",
    "\n",
    "Realizando pruebas de ALEATORIEDAD..."
   ]
  },
  {
   "cell_type": "code",
   "execution_count": 13,
   "metadata": {
    "collapsed": false
   },
   "outputs": [
    {
     "name": "stdout",
     "output_type": "stream",
     "text": [
      "\n",
      "Rachas = [' ', 1, 1, 0, 1, 0, 1, 0, 0, 1, 1, 0, 0, 1, 1, 0, 0, 1, 1, 0, 0, 1, 0, 1, 0, 1, 1, 0, 1, 0, 0, 1, 0, 1, 0, 1, 0, 0, 1, 1, 0, 1, 1, 1, 1, 0, 0, 1, 0, 1, 0, 1, 1, 1, 1, 0, 1, 0, 1, 0, 1, 0, 0, 1, 0, 0, 1, 0, 1, 0, 0, 0, 0, 1, 1, 1, 0, 0, 1, 1, 0, 0, 1, 0, 1, 0, 1, 0, 1, 0, 1, 1, 0, 0, 0, 1, 0, 1, 0, 1]\n",
      " \n",
      "Numero de rachas de la secuencia = 67\n",
      "\n"
     ]
    },
    {
     "data": {
      "text/plain": [
       "'Z = 0.159566567605'"
      ]
     },
     "execution_count": 13,
     "metadata": {},
     "output_type": "execute_result"
    }
   ],
   "source": [
    "test_rachas(s)"
   ]
  },
  {
   "cell_type": "code",
   "execution_count": null,
   "metadata": {
    "collapsed": true
   },
   "outputs": [],
   "source": []
  }
 ],
 "metadata": {
  "kernelspec": {
   "display_name": "Python 2",
   "language": "python",
   "name": "python2"
  },
  "language_info": {
   "codemirror_mode": {
    "name": "ipython",
    "version": 2
   },
   "file_extension": ".py",
   "mimetype": "text/x-python",
   "name": "python",
   "nbconvert_exporter": "python",
   "pygments_lexer": "ipython2",
   "version": "2.7.11"
  }
 },
 "nbformat": 4,
 "nbformat_minor": 0
}
