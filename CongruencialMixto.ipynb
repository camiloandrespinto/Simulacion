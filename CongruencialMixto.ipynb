{
 "cells": [
  {
   "cell_type": "code",
   "execution_count": null,
   "metadata": {
    "collapsed": false
   },
   "outputs": [],
   "source": [
    "while True:\n",
    "        num = input(\"\\nMENU: \\n1. Generador de Numeros pseudoaleatorios. \\n\")\n",
    "        if num == 1:\n",
    "                print '\\n  GENERADOR CONGRUENCIAL MIXTO'\n",
    "                a = input(\"\\n\\nValor semilla X =   \")\n",
    "                num_c = input(\"Cantidad de # a Generar: \")\n",
    "                print \"\\n\"\n",
    "                for i in range(0,num_c):\n",
    "                    xi = (5*a + 3)%16\n",
    "                    ui = xi / 16.0\n",
    "                    print \"ValorAleatorio\" + str(i) + \" = \" + str(ui)\n",
    "                    a = xi\n",
    "        else:\n",
    "                print 'Elija una opcion valida.\\n'"
   ]
  },
  {
   "cell_type": "code",
   "execution_count": null,
   "metadata": {
    "collapsed": true
   },
   "outputs": [],
   "source": []
  }
 ],
 "metadata": {
  "kernelspec": {
   "display_name": "Python 2",
   "language": "python",
   "name": "python2"
  },
  "language_info": {
   "codemirror_mode": {
    "name": "ipython",
    "version": 2
   },
   "file_extension": ".py",
   "mimetype": "text/x-python",
   "name": "python",
   "nbconvert_exporter": "python",
   "pygments_lexer": "ipython2",
   "version": "2.7.11"
  }
 },
 "nbformat": 4,
 "nbformat_minor": 0
}
