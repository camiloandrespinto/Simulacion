{
 "cells": [
  {
   "cell_type": "code",
   "execution_count": null,
   "metadata": {
    "collapsed": false
   },
   "outputs": [],
   "source": [
    "if __name__ == \"__main__\":\n",
    "    x=str(input(\"Valor de la semilla: \"))\n",
    "    num=int(len(x)/2)\n",
    "    if len(x)%2==0:\n",
    "        num_c=int(input(\"Cantidad de # : \"))\n",
    "        for i in range(num_c):\n",
    "            a=len(x)\n",
    "            b=\"\"\n",
    "            x=int(x)\n",
    "            x1=x*x\n",
    "            y=str(x1)\n",
    "            for j in range((4*num)-len(y)):\n",
    "                b+=\"0\"\n",
    "            y=b+y\n",
    "            print(y)\n",
    "            x=str(x)\n",
    "            z=y[int((2*a)/4):int((2*a*3)/4)]\n",
    "            print(\"Valor Central\", z)\n",
    "            salida=z\n",
    "            x=salida\n",
    "            i=i+1\n",
    "    else:\n",
    "        print(\"Numero de digitos no par\")"
   ]
  },
  {
   "cell_type": "code",
   "execution_count": null,
   "metadata": {
    "collapsed": true
   },
   "outputs": [],
   "source": []
  }
 ],
 "metadata": {
  "kernelspec": {
   "display_name": "Python 2",
   "language": "python",
   "name": "python2"
  },
  "language_info": {
   "codemirror_mode": {
    "name": "ipython",
    "version": 2
   },
   "file_extension": ".py",
   "mimetype": "text/x-python",
   "name": "python",
   "nbconvert_exporter": "python",
   "pygments_lexer": "ipython2",
   "version": "2.7.11"
  }
 },
 "nbformat": 4,
 "nbformat_minor": 0
}
