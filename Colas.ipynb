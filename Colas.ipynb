{
 "cells": [
  {
   "cell_type": "code",
   "execution_count": 1,
   "metadata": {
    "collapsed": false
   },
   "outputs": [
    {
     "data": {
      "image/png": "[encoded data removed]",
      "text/plain": [
       "<matplotlib.figure.Figure at 0x4187940>"
      ]
     },
     "metadata": {},
     "output_type": "display_data"
    }
   ],
   "source": [
    "%matplotlib inline \n",
    "\n",
    "import numpy as np\n",
    "import scipy as sp\n",
    "import matplotlib.pyplot as plt\n",
    "import math\n",
    "from scipy.integrate import quad\n",
    "\n",
    "t=8\n",
    "u=3\n",
    "s=1\n",
    "k=10\n",
    "l=4\n",
    "\n",
    "        \n",
    "def poisson(k,l):\n",
    "    po=[]\n",
    "    for i in range(k):\n",
    "        po.append((math.exp(-l)*l**i)/math.factorial(i))\n",
    "    return po\n",
    "\n",
    "    \n",
    "\n",
    "dppo=poisson(k,l)\n",
    "plt.plot(dppo)\n",
    "plt.show()"
   ]
  },
  {
   "cell_type": "code",
   "execution_count": 2,
   "metadata": {
    "collapsed": false
   },
   "outputs": [
    {
     "data": {
      "image/png": "[encoded data removed]",
      "text/plain": [
       "<matplotlib.figure.Figure at 0x4144c88>"
      ]
     },
     "metadata": {},
     "output_type": "display_data"
    }
   ],
   "source": [
    "def acumpoisson(k):\n",
    "    apo=[]\n",
    "    acu=0\n",
    "    for i in range(k):\n",
    "        if i==0:\n",
    "            apo.append(dppo[i])\n",
    "            acu=apo[i]\n",
    "        else:\n",
    "            apo.append(dppo[i]+acu)\n",
    "            acu=apo[i]\n",
    "    return apo\n",
    "\n",
    "dapo=acumpoisson(k)\n",
    "plt.plot(dapo)\n",
    "plt.show()\n",
    "\n",
    "def acumnormal():\n",
    "    acn=0\n",
    "    an=[]\n",
    "    for i in range(px.length):\n",
    "        if i==0:\n",
    "            an.append(px[i])\n",
    "            acn=an[i]\n",
    "        else:\n",
    "            an.append(px[i]+acn)\n",
    "            acn=an[i]\n",
    "    return an"
   ]
  },
  {
   "cell_type": "code",
   "execution_count": 3,
   "metadata": {
    "collapsed": false
   },
   "outputs": [
    {
     "name": "stdout",
     "output_type": "stream",
     "text": [
      "[0.07907742998352553, 0.400329489291598, 0.006589785831960461, 0.03789126853377265, 0.19439868204283361, 0.9769357495881383, 0.8896210873146623, 0.45304777594728174]\n",
      "[1.1541760214696064, 0, 1.3106958096109171, 1.251469437834756, 0.6915167684558923, 4.7190825963518765, 4.938487658770294, 0]\n"
     ]
    }
   ],
   "source": [
    "def genale(N):\n",
    "    Ux=[]\n",
    "    x=0\n",
    "    x0=9\n",
    "    while x<N:\n",
    "        x0=((5*x0)+3)%607\n",
    "        x=x+1\n",
    "        Ux.append(float(x0)/607)\n",
    "    return Ux\n",
    "\n",
    "def genalev(N):\n",
    "    Ux=[]\n",
    "    x=0\n",
    "    x0=7\n",
    "    while x<N:\n",
    "        x0=((5*x0)+3)%607\n",
    "        x=x+1\n",
    "        Ux.append(float(x0)/607)\n",
    "    return Ux\n",
    "\n",
    "\n",
    "def erf(p):\n",
    "    invexp=lambda t:np.exp(-t**2)\n",
    "    y,err=quad(invexp,0,p)\n",
    "    error=(2/math.sqrt(math.pi))*y\n",
    "    return error\n",
    "\n",
    "def invnormal(u,s,t):\n",
    "    p=genale(t)\n",
    "    print p\n",
    "    n=[]\n",
    "    for i in range(t):\n",
    "        n.append(u+s*math.sqrt(2)*(1/erf(2*p[i]-1)))\n",
    "        if n[i]<0:\n",
    "            n[i]=0\n",
    "    return n\n",
    "\n",
    "print invnormal(3,1,t)\n"
   ]
  },
  {
   "cell_type": "code",
   "execution_count": 4,
   "metadata": {
    "collapsed": false
   },
   "outputs": [
    {
     "name": "stdout",
     "output_type": "stream",
     "text": [
      "[1, 3, 4, 8, 7, 4, 4, 3]\n"
     ]
    }
   ],
   "source": [
    "def ppoisson(t):\n",
    "    p=[]\n",
    "    p=genalev(t)\n",
    "    pi=[]\n",
    "    for i in range(t):\n",
    "        for j in range(len(dapo)):\n",
    "            if p[i]<dapo[j]:\n",
    "                pi.append(j)\n",
    "                break\n",
    "    return pi      \n",
    "print ppoisson(t)"
   ]
  },
  {
   "cell_type": "code",
   "execution_count": 7,
   "metadata": {
    "collapsed": false
   },
   "outputs": [
    {
     "name": "stdout",
     "output_type": "stream",
     "text": [
      "[0.07907742998352553, 0.400329489291598, 0.006589785831960461, 0.03789126853377265, 0.19439868204283361, 0.9769357495881383, 0.8896210873146623, 0.45304777594728174]\n"
     ]
    }
   ],
   "source": [
    "cola=ppoisson(t)\n",
    "servicio=invnormal(u,s,t)\n"
   ]
  },
  {
   "cell_type": "code",
   "execution_count": 17,
   "metadata": {
    "collapsed": false
   },
   "outputs": [
    {
     "name": "stdout",
     "output_type": "stream",
     "text": [
      "Tiempo  |  # de Clientes que llegan  |  # de Clientes en Cola  |  # de Clientes en Servidor  |  # de Clientes en el Sistema\n",
      "0       |  1                         |  0.00                   |  1.15                       |  1.00\n",
      "1       |  3                         |  0.00                   |  0.00                       |  3.00\n",
      "2       |  4                         |  3.00                   |  1.31                       |  7.00\n",
      "3       |  8                         |  5.69                   |  1.25                       |  13.69\n",
      "4       |  7                         |  12.44                   |  0.69                       |  19.44\n",
      "5       |  4                         |  18.75                   |  4.72                       |  22.75\n",
      "6       |  4                         |  18.03                   |  4.94                       |  22.03\n",
      "7       |  3                         |  17.09                   |  0.00                       |  20.09\n"
     ]
    }
   ],
   "source": [
    "clientesencola=[]\n",
    "clientesencola.append(0)\n",
    "clientesensistema=[]\n",
    "clientesensistema.append(cola[0])\n",
    "x=0;\n",
    "for i in range(t-1):\n",
    "    x=(cola[i]+x)-servicio[i]\n",
    "    if x<0:\n",
    "        x=0\n",
    "    clientesensistema.append((cola[i+1]+x))    \n",
    "    clientesencola.append(x)\n",
    "\n",
    "    tabla= [range(t),cola,clientesencola,servicio,clientesensistema]\n",
    "    \n",
    "print \"Tiempo\"+\"  |  \"+ \"# de Clientes que llegan\" +\"  |  \"+ \"# de Clientes en Cola\" +\"  |  \"+ \"# de Clientes en Servidor\" + \"  |  \" + \"# de Clientes en el Sistema\"\n",
    "for i in range(t): \n",
    "    print str(tabla[0][i]) +\"       |  \"+ str(tabla[1][i]) +\"                         |  \"    + str(\"{0:.2f}\".format(tabla[2][i])) +\"                   |  \"+ str(\"{0:.2f}\".format(tabla[3][i])) + \"                       |  \" +str(\"{0:.2f}\".format(tabla[4][i]))"
   ]
  },
  {
   "cell_type": "code",
   "execution_count": 20,
   "metadata": {
    "collapsed": false
   },
   "outputs": [
    {
     "name": "stdout",
     "output_type": "stream",
     "text": [
      "Tiempo promedio en cola = 0.106681687386\n",
      "\n",
      "Tiempo promedio en el servidor = 0.235294117647\n",
      "\n",
      "Tiempo promedio en el sistema = 0.0734016065849\n"
     ]
    }
   ],
   "source": [
    "tpc=0\n",
    "tps=0\n",
    "tpse=0\n",
    "for i in range(len(cola)):\n",
    "    tpc=tpc+clientesencola[i]\n",
    "    tps=tps+clientesensistema[i]\n",
    "    tpse=tpse+clientesensistema[i]-clientesencola[i]\n",
    "    \n",
    "tpc=t/float(tpc)\n",
    "tpse=t/float(tpse)\n",
    "tps=t/float(tps)\n",
    "print \"Tiempo promedio en cola = \" + str(tpc)\n",
    "print \"\\nTiempo promedio en el servidor = \" + str(tpse)\n",
    "print \"\\nTiempo promedio en el sistema = \" + str(tps)"
   ]
  },
  {
   "cell_type": "code",
   "execution_count": null,
   "metadata": {
    "collapsed": true
   },
   "outputs": [],
   "source": []
  }
 ],
 "metadata": {
  "kernelspec": {
   "display_name": "Python 2",
   "language": "python",
   "name": "python2"
  },
  "language_info": {
   "codemirror_mode": {
    "name": "ipython",
    "version": 2
   },
   "file_extension": ".py",
   "mimetype": "text/x-python",
   "name": "python",
   "nbconvert_exporter": "python",
   "pygments_lexer": "ipython2",
   "version": "2.7.11"
  }
 },
 "nbformat": 4,
 "nbformat_minor": 0
}
